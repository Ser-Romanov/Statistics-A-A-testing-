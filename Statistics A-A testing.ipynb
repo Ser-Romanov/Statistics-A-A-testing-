{
 "cells": [
  {
   "cell_type": "code",
   "execution_count": 1,
   "metadata": {},
   "outputs": [],
   "source": [
    "import numpy as np\n",
    "import pandas as pd\n",
    "from scipy import stats\n",
    "import matplotlib.pyplot as plt\n",
    "\n",
    "from tqdm.auto import tqdm"
   ]
  },
  {
   "cell_type": "code",
   "execution_count": 2,
   "metadata": {},
   "outputs": [
    {
     "data": {
      "text/html": [
       "<div>\n",
       "<style scoped>\n",
       "    .dataframe tbody tr th:only-of-type {\n",
       "        vertical-align: middle;\n",
       "    }\n",
       "\n",
       "    .dataframe tbody tr th {\n",
       "        vertical-align: top;\n",
       "    }\n",
       "\n",
       "    .dataframe thead th {\n",
       "        text-align: right;\n",
       "    }\n",
       "</style>\n",
       "<table border=\"1\" class=\"dataframe\">\n",
       "  <thead>\n",
       "    <tr style=\"text-align: right;\">\n",
       "      <th></th>\n",
       "      <th>Unnamed: 0</th>\n",
       "      <th>uid</th>\n",
       "      <th>experimentVariant</th>\n",
       "      <th>version</th>\n",
       "      <th>purchase</th>\n",
       "    </tr>\n",
       "  </thead>\n",
       "  <tbody>\n",
       "    <tr>\n",
       "      <th>0</th>\n",
       "      <td>1</td>\n",
       "      <td>c4ca4238a0b923820dcc509a6f75849b</td>\n",
       "      <td>1</td>\n",
       "      <td>v2.8.0</td>\n",
       "      <td>0</td>\n",
       "    </tr>\n",
       "    <tr>\n",
       "      <th>1</th>\n",
       "      <td>2</td>\n",
       "      <td>c81e728d9d4c2f636f067f89cc14862c</td>\n",
       "      <td>0</td>\n",
       "      <td>v2.9.0</td>\n",
       "      <td>0</td>\n",
       "    </tr>\n",
       "    <tr>\n",
       "      <th>2</th>\n",
       "      <td>3</td>\n",
       "      <td>eccbc87e4b5ce2fe28308fd9f2a7baf3</td>\n",
       "      <td>1</td>\n",
       "      <td>v2.9.0</td>\n",
       "      <td>0</td>\n",
       "    </tr>\n",
       "    <tr>\n",
       "      <th>3</th>\n",
       "      <td>4</td>\n",
       "      <td>a87ff679a2f3e71d9181a67b7542122c</td>\n",
       "      <td>1</td>\n",
       "      <td>v2.8.0</td>\n",
       "      <td>0</td>\n",
       "    </tr>\n",
       "    <tr>\n",
       "      <th>4</th>\n",
       "      <td>5</td>\n",
       "      <td>e4da3b7fbbce2345d7772b0674a318d5</td>\n",
       "      <td>1</td>\n",
       "      <td>v2.8.0</td>\n",
       "      <td>0</td>\n",
       "    </tr>\n",
       "    <tr>\n",
       "      <th>...</th>\n",
       "      <td>...</td>\n",
       "      <td>...</td>\n",
       "      <td>...</td>\n",
       "      <td>...</td>\n",
       "      <td>...</td>\n",
       "    </tr>\n",
       "    <tr>\n",
       "      <th>127013</th>\n",
       "      <td>127014</td>\n",
       "      <td>d1f082ede77b17a99a9b0b240daf7bdf</td>\n",
       "      <td>0</td>\n",
       "      <td>v2.8.0</td>\n",
       "      <td>0</td>\n",
       "    </tr>\n",
       "    <tr>\n",
       "      <th>127014</th>\n",
       "      <td>127015</td>\n",
       "      <td>94f0d540830ccdc6b29c1938eea445cc</td>\n",
       "      <td>0</td>\n",
       "      <td>v2.8.0</td>\n",
       "      <td>0</td>\n",
       "    </tr>\n",
       "    <tr>\n",
       "      <th>127015</th>\n",
       "      <td>127016</td>\n",
       "      <td>709f74cf9721328e98be6f216e8a05a8</td>\n",
       "      <td>1</td>\n",
       "      <td>v2.9.0</td>\n",
       "      <td>0</td>\n",
       "    </tr>\n",
       "    <tr>\n",
       "      <th>127016</th>\n",
       "      <td>127017</td>\n",
       "      <td>1767ae3f8ffec269d9ed0ac0ede68d90</td>\n",
       "      <td>1</td>\n",
       "      <td>v2.8.0</td>\n",
       "      <td>0</td>\n",
       "    </tr>\n",
       "    <tr>\n",
       "      <th>127017</th>\n",
       "      <td>127018</td>\n",
       "      <td>8dd8503c49b5e8c6aaea1ed7f0c49765</td>\n",
       "      <td>1</td>\n",
       "      <td>v2.8.0</td>\n",
       "      <td>0</td>\n",
       "    </tr>\n",
       "  </tbody>\n",
       "</table>\n",
       "<p>127018 rows × 5 columns</p>\n",
       "</div>"
      ],
      "text/plain": [
       "        Unnamed: 0                               uid  experimentVariant  \\\n",
       "0                1  c4ca4238a0b923820dcc509a6f75849b                  1   \n",
       "1                2  c81e728d9d4c2f636f067f89cc14862c                  0   \n",
       "2                3  eccbc87e4b5ce2fe28308fd9f2a7baf3                  1   \n",
       "3                4  a87ff679a2f3e71d9181a67b7542122c                  1   \n",
       "4                5  e4da3b7fbbce2345d7772b0674a318d5                  1   \n",
       "...            ...                               ...                ...   \n",
       "127013      127014  d1f082ede77b17a99a9b0b240daf7bdf                  0   \n",
       "127014      127015  94f0d540830ccdc6b29c1938eea445cc                  0   \n",
       "127015      127016  709f74cf9721328e98be6f216e8a05a8                  1   \n",
       "127016      127017  1767ae3f8ffec269d9ed0ac0ede68d90                  1   \n",
       "127017      127018  8dd8503c49b5e8c6aaea1ed7f0c49765                  1   \n",
       "\n",
       "       version  purchase  \n",
       "0       v2.8.0         0  \n",
       "1       v2.9.0         0  \n",
       "2       v2.9.0         0  \n",
       "3       v2.8.0         0  \n",
       "4       v2.8.0         0  \n",
       "...        ...       ...  \n",
       "127013  v2.8.0         0  \n",
       "127014  v2.8.0         0  \n",
       "127015  v2.9.0         0  \n",
       "127016  v2.8.0         0  \n",
       "127017  v2.8.0         0  \n",
       "\n",
       "[127018 rows x 5 columns]"
      ]
     },
     "execution_count": 2,
     "metadata": {},
     "output_type": "execute_result"
    }
   ],
   "source": [
    "app = pd.read_csv('/mnt/HC_Volume_18315164/home-jupyter/jupyter-s-romanov-28/Statistics/Stat_les_10/hw_aa.csv', sep=';')\n",
    "app"
   ]
  },
  {
   "cell_type": "markdown",
   "metadata": {},
   "source": [
    "Проведём предварительное исследование данных"
   ]
  },
  {
   "cell_type": "code",
   "execution_count": 3,
   "metadata": {},
   "outputs": [
    {
     "name": "stdout",
     "output_type": "stream",
     "text": [
      "<class 'pandas.core.frame.DataFrame'>\n",
      "RangeIndex: 127018 entries, 0 to 127017\n",
      "Data columns (total 5 columns):\n",
      " #   Column             Non-Null Count   Dtype \n",
      "---  ------             --------------   ----- \n",
      " 0   Unnamed: 0         127018 non-null  int64 \n",
      " 1   uid                127018 non-null  object\n",
      " 2   experimentVariant  127018 non-null  int64 \n",
      " 3   version            127018 non-null  object\n",
      " 4   purchase           127018 non-null  int64 \n",
      "dtypes: int64(3), object(2)\n",
      "memory usage: 4.8+ MB\n"
     ]
    }
   ],
   "source": [
    "# Пропущенных значений нет, форматы данных валидны.\n",
    "\n",
    "app.info()"
   ]
  },
  {
   "cell_type": "code",
   "execution_count": 4,
   "metadata": {},
   "outputs": [
    {
     "data": {
      "text/plain": [
       "127018"
      ]
     },
     "execution_count": 4,
     "metadata": {},
     "output_type": "execute_result"
    }
   ],
   "source": [
    "# Все user id уникальны\n",
    "\n",
    "app.uid.nunique()"
   ]
  },
  {
   "cell_type": "code",
   "execution_count": 5,
   "metadata": {},
   "outputs": [
    {
     "data": {
      "text/plain": [
       "1    63916\n",
       "0    63102\n",
       "Name: experimentVariant, dtype: int64"
      ]
     },
     "execution_count": 5,
     "metadata": {},
     "output_type": "execute_result"
    }
   ],
   "source": [
    "# Группы примерно одинаковы по количеству наблюдений.\n",
    "\n",
    "app.experimentVariant.value_counts()"
   ]
  },
  {
   "cell_type": "code",
   "execution_count": 6,
   "metadata": {},
   "outputs": [
    {
     "data": {
      "text/plain": [
       "4"
      ]
     },
     "execution_count": 6,
     "metadata": {},
     "output_type": "execute_result"
    }
   ],
   "source": [
    "# 4 версии приложения\n",
    "\n",
    "app.version.nunique()"
   ]
  },
  {
   "cell_type": "markdown",
   "metadata": {},
   "source": [
    "Попробуем выяснить, есть ли в данных аномалии и, если есть, то чем они вызваны."
   ]
  },
  {
   "cell_type": "code",
   "execution_count": 7,
   "metadata": {},
   "outputs": [
    {
     "data": {
      "text/html": [
       "<div>\n",
       "<style scoped>\n",
       "    .dataframe tbody tr th:only-of-type {\n",
       "        vertical-align: middle;\n",
       "    }\n",
       "\n",
       "    .dataframe tbody tr th {\n",
       "        vertical-align: top;\n",
       "    }\n",
       "\n",
       "    .dataframe thead th {\n",
       "        text-align: right;\n",
       "    }\n",
       "</style>\n",
       "<table border=\"1\" class=\"dataframe\">\n",
       "  <thead>\n",
       "    <tr style=\"text-align: right;\">\n",
       "      <th></th>\n",
       "      <th>experimentVariant</th>\n",
       "      <th>purchase</th>\n",
       "      <th>uid</th>\n",
       "    </tr>\n",
       "  </thead>\n",
       "  <tbody>\n",
       "    <tr>\n",
       "      <th>0</th>\n",
       "      <td>0</td>\n",
       "      <td>0.023945</td>\n",
       "      <td>63102</td>\n",
       "    </tr>\n",
       "    <tr>\n",
       "      <th>1</th>\n",
       "      <td>1</td>\n",
       "      <td>0.053242</td>\n",
       "      <td>63916</td>\n",
       "    </tr>\n",
       "  </tbody>\n",
       "</table>\n",
       "</div>"
      ],
      "text/plain": [
       "   experimentVariant  purchase    uid\n",
       "0                  0  0.023945  63102\n",
       "1                  1  0.053242  63916"
      ]
     },
     "execution_count": 7,
     "metadata": {},
     "output_type": "execute_result"
    }
   ],
   "source": [
    "# Имеем довольно существенные различия в CR\n",
    "\n",
    "app.groupby('experimentVariant', as_index=False)\\\n",
    "   .agg({'purchase': 'mean', 'uid': 'count'})"
   ]
  },
  {
   "cell_type": "code",
   "execution_count": 8,
   "metadata": {},
   "outputs": [
    {
     "data": {
      "text/html": [
       "<div>\n",
       "<style scoped>\n",
       "    .dataframe tbody tr th:only-of-type {\n",
       "        vertical-align: middle;\n",
       "    }\n",
       "\n",
       "    .dataframe tbody tr th {\n",
       "        vertical-align: top;\n",
       "    }\n",
       "\n",
       "    .dataframe thead th {\n",
       "        text-align: right;\n",
       "    }\n",
       "</style>\n",
       "<table border=\"1\" class=\"dataframe\">\n",
       "  <thead>\n",
       "    <tr style=\"text-align: right;\">\n",
       "      <th></th>\n",
       "      <th>version</th>\n",
       "      <th>purchase</th>\n",
       "      <th>uid</th>\n",
       "    </tr>\n",
       "  </thead>\n",
       "  <tbody>\n",
       "    <tr>\n",
       "      <th>0</th>\n",
       "      <td>v2.8.0</td>\n",
       "      <td>0.023372</td>\n",
       "      <td>82835</td>\n",
       "    </tr>\n",
       "    <tr>\n",
       "      <th>1</th>\n",
       "      <td>v2.9.0</td>\n",
       "      <td>0.072973</td>\n",
       "      <td>23954</td>\n",
       "    </tr>\n",
       "    <tr>\n",
       "      <th>2</th>\n",
       "      <td>v3.7.4.0</td>\n",
       "      <td>0.061484</td>\n",
       "      <td>8425</td>\n",
       "    </tr>\n",
       "    <tr>\n",
       "      <th>3</th>\n",
       "      <td>v3.8.0.0</td>\n",
       "      <td>0.060319</td>\n",
       "      <td>11804</td>\n",
       "    </tr>\n",
       "  </tbody>\n",
       "</table>\n",
       "</div>"
      ],
      "text/plain": [
       "    version  purchase    uid\n",
       "0    v2.8.0  0.023372  82835\n",
       "1    v2.9.0  0.072973  23954\n",
       "2  v3.7.4.0  0.061484   8425\n",
       "3  v3.8.0.0  0.060319  11804"
      ]
     },
     "execution_count": 8,
     "metadata": {},
     "output_type": "execute_result"
    }
   ],
   "source": [
    "# Группируем по версиям приложения\n",
    "# Имеем довольно существенные отличия значения CR в версии v2.8.0 от значений CR остальных групп.\n",
    "app.groupby('version', as_index=False)\\\n",
    "   .agg({'purchase': 'mean', 'uid': 'count'})"
   ]
  },
  {
   "cell_type": "code",
   "execution_count": 9,
   "metadata": {},
   "outputs": [
    {
     "data": {
      "text/html": [
       "<div>\n",
       "<style scoped>\n",
       "    .dataframe tbody tr th:only-of-type {\n",
       "        vertical-align: middle;\n",
       "    }\n",
       "\n",
       "    .dataframe tbody tr th {\n",
       "        vertical-align: top;\n",
       "    }\n",
       "\n",
       "    .dataframe thead th {\n",
       "        text-align: right;\n",
       "    }\n",
       "</style>\n",
       "<table border=\"1\" class=\"dataframe\">\n",
       "  <thead>\n",
       "    <tr style=\"text-align: right;\">\n",
       "      <th></th>\n",
       "      <th>experimentVariant</th>\n",
       "      <th>version</th>\n",
       "      <th>purchase</th>\n",
       "      <th>uid</th>\n",
       "    </tr>\n",
       "  </thead>\n",
       "  <tbody>\n",
       "    <tr>\n",
       "      <th>0</th>\n",
       "      <td>0</td>\n",
       "      <td>v2.8.0</td>\n",
       "      <td>0.000993</td>\n",
       "      <td>41283</td>\n",
       "    </tr>\n",
       "    <tr>\n",
       "      <th>1</th>\n",
       "      <td>0</td>\n",
       "      <td>v2.9.0</td>\n",
       "      <td>0.074658</td>\n",
       "      <td>11921</td>\n",
       "    </tr>\n",
       "    <tr>\n",
       "      <th>2</th>\n",
       "      <td>0</td>\n",
       "      <td>v3.7.4.0</td>\n",
       "      <td>0.059943</td>\n",
       "      <td>4204</td>\n",
       "    </tr>\n",
       "    <tr>\n",
       "      <th>3</th>\n",
       "      <td>0</td>\n",
       "      <td>v3.8.0.0</td>\n",
       "      <td>0.057604</td>\n",
       "      <td>5694</td>\n",
       "    </tr>\n",
       "    <tr>\n",
       "      <th>4</th>\n",
       "      <td>1</td>\n",
       "      <td>v2.8.0</td>\n",
       "      <td>0.045606</td>\n",
       "      <td>41552</td>\n",
       "    </tr>\n",
       "    <tr>\n",
       "      <th>5</th>\n",
       "      <td>1</td>\n",
       "      <td>v2.9.0</td>\n",
       "      <td>0.071304</td>\n",
       "      <td>12033</td>\n",
       "    </tr>\n",
       "    <tr>\n",
       "      <th>6</th>\n",
       "      <td>1</td>\n",
       "      <td>v3.7.4.0</td>\n",
       "      <td>0.063018</td>\n",
       "      <td>4221</td>\n",
       "    </tr>\n",
       "    <tr>\n",
       "      <th>7</th>\n",
       "      <td>1</td>\n",
       "      <td>v3.8.0.0</td>\n",
       "      <td>0.062848</td>\n",
       "      <td>6110</td>\n",
       "    </tr>\n",
       "  </tbody>\n",
       "</table>\n",
       "</div>"
      ],
      "text/plain": [
       "   experimentVariant   version  purchase    uid\n",
       "0                  0    v2.8.0  0.000993  41283\n",
       "1                  0    v2.9.0  0.074658  11921\n",
       "2                  0  v3.7.4.0  0.059943   4204\n",
       "3                  0  v3.8.0.0  0.057604   5694\n",
       "4                  1    v2.8.0  0.045606  41552\n",
       "5                  1    v2.9.0  0.071304  12033\n",
       "6                  1  v3.7.4.0  0.063018   4221\n",
       "7                  1  v3.8.0.0  0.062848   6110"
      ]
     },
     "execution_count": 9,
     "metadata": {},
     "output_type": "execute_result"
    }
   ],
   "source": [
    "# Рассмотрим более подробно\n",
    "# Имеем значимые отличия CR в версии приложения v2.8.0, причём только в одной из групп эксперимента при относительном\n",
    "# равенстве количества пользователей в каждой из групп.\n",
    "\n",
    "app.groupby(['experimentVariant', 'version'], as_index=False)\\\n",
    "   .agg({'purchase': 'mean', 'uid': 'count'})"
   ]
  },
  {
   "cell_type": "markdown",
   "metadata": {},
   "source": [
    "Даже без рассчёта p-value можно сделать вывод о том, что причина некорректной работы системы сплитования заключается в версии приложения v2.8.0, однако всё же проведём симуляции А/А теста и вычислим FPR для каждой версии приложения."
   ]
  },
  {
   "cell_type": "code",
   "execution_count": 15,
   "metadata": {},
   "outputs": [
    {
     "data": {
      "application/vnd.jupyter.widget-view+json": {
       "model_id": "10759a6de2a34ff7a415f6720fa7e46d",
       "version_major": 2,
       "version_minor": 0
      },
      "text/plain": [
       "HBox(children=(FloatProgress(value=0.0, max=1000.0), HTML(value='')))"
      ]
     },
     "metadata": {},
     "output_type": "display_data"
    },
    {
     "name": "stdout",
     "output_type": "stream",
     "text": [
      "\n"
     ]
    },
    {
     "data": {
      "image/png": "[encoded data removed]",
      "text/plain": [
       "<Figure size 432x288 with 1 Axes>"
      ]
     },
     "metadata": {},
     "output_type": "display_data"
    },
    {
     "data": {
      "text/plain": [
       "1.0"
      ]
     },
     "execution_count": 15,
     "metadata": {},
     "output_type": "execute_result"
    }
   ],
   "source": [
    "# v2.8.0: p-value > 0.05, FPR > alpha, соответственно сплит-система работает некорректно и формирует невалидные \n",
    "# выборки в данной версии приложения.\n",
    "\n",
    "n = 100000\n",
    "simulations = 1000\n",
    "n_s = 1000\n",
    "res = []\n",
    "\n",
    "for i in tqdm(range(simulations)):\n",
    "    s1 = app[(app.experimentVariant == 0) & (app.version == 'v2.8.0')]['purchase'].sample(n_s, replace = False)\n",
    "    s2 = app[(app.experimentVariant == 1) & (app.version == 'v2.8.0')]['purchase'].sample(n_s, replace = False)\n",
    "    res.append(stats.ttest_ind(s1, s2, equal_var = False)[1])\n",
    "\n",
    "plt.hist(res, bins = 50)\n",
    "plt.style.use('ggplot')\n",
    "plt.xlabel('pvalues')\n",
    "plt.ylabel('frequency')\n",
    "plt.title(\"Histogram of ttest A/A simulations \")\n",
    "plt.show()\n",
    "\n",
    "sum(np.array(res) < 0.05) / simulations"
   ]
  },
  {
   "cell_type": "code",
   "execution_count": 11,
   "metadata": {},
   "outputs": [
    {
     "data": {
      "application/vnd.jupyter.widget-view+json": {
       "model_id": "62850e68f8984ebb8dffd5b8bc8483d8",
       "version_major": 2,
       "version_minor": 0
      },
      "text/plain": [
       "HBox(children=(FloatProgress(value=0.0, max=1000.0), HTML(value='')))"
      ]
     },
     "metadata": {},
     "output_type": "display_data"
    },
    {
     "name": "stdout",
     "output_type": "stream",
     "text": [
      "\n"
     ]
    },
    {
     "data": {
      "image/png": "[encoded data removed]",
      "text/plain": [
       "<Figure size 432x288 with 1 Axes>"
      ]
     },
     "metadata": {},
     "output_type": "display_data"
    },
    {
     "data": {
      "text/plain": [
       "0.046"
      ]
     },
     "execution_count": 11,
     "metadata": {},
     "output_type": "execute_result"
    }
   ],
   "source": [
    "# v2.9.0: p-value < 0.05, FPR < alpha, соответственно сплит-система работает корректно и формирует валидные выборки.\n",
    "\n",
    "n = 100000\n",
    "simulations = 1000\n",
    "n_s = 1000\n",
    "res = []\n",
    "\n",
    "for i in tqdm(range(simulations)):\n",
    "    s1 = app[(app.experimentVariant == 0) & (app.version == 'v2.9.0')]['purchase'].sample(n_s, replace = False)\n",
    "    s2 = app[(app.experimentVariant == 1) & (app.version == 'v2.9.0')]['purchase'].sample(n_s, replace = False)\n",
    "    res.append(stats.ttest_ind(s1, s2, equal_var = False)[1])\n",
    "\n",
    "plt.hist(res, bins = 50)\n",
    "plt.style.use('ggplot')\n",
    "plt.xlabel('pvalues')\n",
    "plt.ylabel('frequency')\n",
    "plt.title(\"Histogram of ttest A/A simulations \")\n",
    "plt.show()\n",
    "\n",
    "sum(np.array(res) < 0.05) / simulations"
   ]
  },
  {
   "cell_type": "code",
   "execution_count": 13,
   "metadata": {},
   "outputs": [
    {
     "data": {
      "application/vnd.jupyter.widget-view+json": {
       "model_id": "1d2d85df07f54d22be5a1e4f1476913e",
       "version_major": 2,
       "version_minor": 0
      },
      "text/plain": [
       "HBox(children=(FloatProgress(value=0.0, max=1000.0), HTML(value='')))"
      ]
     },
     "metadata": {},
     "output_type": "display_data"
    },
    {
     "name": "stdout",
     "output_type": "stream",
     "text": [
      "\n"
     ]
    },
    {
     "data": {
      "image/png": "[encoded data removed]",
      "text/plain": [
       "<Figure size 432x288 with 1 Axes>"
      ]
     },
     "metadata": {},
     "output_type": "display_data"
    },
    {
     "data": {
      "text/plain": [
       "0.029"
      ]
     },
     "execution_count": 13,
     "metadata": {},
     "output_type": "execute_result"
    }
   ],
   "source": [
    "# v3.7.4.0: p-value < 0.05, FPR < alpha, соответственно сплит-система работает корректно и формирует валидные выборки.\n",
    "\n",
    "n = 100000\n",
    "simulations = 1000\n",
    "n_s = 1000\n",
    "res = []\n",
    "\n",
    "for i in tqdm(range(simulations)):\n",
    "    s1 = app[(app.experimentVariant == 0) & (app.version == 'v3.7.4.0')]['purchase'].sample(n_s, replace = False)\n",
    "    s2 = app[(app.experimentVariant == 1) & (app.version == 'v3.7.4.0')]['purchase'].sample(n_s, replace = False)\n",
    "    res.append(stats.ttest_ind(s1, s2, equal_var = False)[1])\n",
    "\n",
    "plt.hist(res, bins = 50)\n",
    "plt.style.use('ggplot')\n",
    "plt.xlabel('pvalues')\n",
    "plt.ylabel('frequency')\n",
    "plt.title(\"Histogram of ttest A/A simulations \")\n",
    "plt.show()\n",
    "\n",
    "sum(np.array(res) < 0.05) / simulations"
   ]
  },
  {
   "cell_type": "code",
   "execution_count": 14,
   "metadata": {},
   "outputs": [
    {
     "data": {
      "application/vnd.jupyter.widget-view+json": {
       "model_id": "03c4c41bdff74bfbaad607d2a31cc196",
       "version_major": 2,
       "version_minor": 0
      },
      "text/plain": [
       "HBox(children=(FloatProgress(value=0.0, max=1000.0), HTML(value='')))"
      ]
     },
     "metadata": {},
     "output_type": "display_data"
    },
    {
     "name": "stdout",
     "output_type": "stream",
     "text": [
      "\n"
     ]
    },
    {
     "data": {
      "image/png": "[encoded data removed]",
      "text/plain": [
       "<Figure size 432x288 with 1 Axes>"
      ]
     },
     "metadata": {},
     "output_type": "display_data"
    },
    {
     "data": {
      "text/plain": [
       "0.045"
      ]
     },
     "execution_count": 14,
     "metadata": {},
     "output_type": "execute_result"
    }
   ],
   "source": [
    "# v3.8.0.0: p-value < 0.05, FPR < alpha, соответственно сплит-система работает корректно и формирует валидные выборки.\n",
    "\n",
    "n = 100000\n",
    "simulations = 1000\n",
    "n_s = 1000\n",
    "res = []\n",
    "\n",
    "for i in tqdm(range(simulations)):\n",
    "    s1 = app[(app.experimentVariant == 0) & (app.version == 'v3.8.0.0')]['purchase'].sample(n_s, replace = False)\n",
    "    s2 = app[(app.experimentVariant == 1) & (app.version == 'v3.8.0.0')]['purchase'].sample(n_s, replace = False)\n",
    "    res.append(stats.ttest_ind(s1, s2, equal_var = False)[1])\n",
    "\n",
    "plt.hist(res, bins = 50)\n",
    "plt.style.use('ggplot')\n",
    "plt.xlabel('pvalues')\n",
    "plt.ylabel('frequency')\n",
    "plt.title(\"Histogram of ttest A/A simulations \")\n",
    "plt.show()\n",
    "\n",
    "sum(np.array(res) < 0.05) / simulations"
   ]
  },
  {
   "cell_type": "markdown",
   "metadata": {},
   "source": [
    "Вывод: по результатам А/А теста можно сделать вывод о некорректной работе системы сплитования наблюдений для версии приложения v2.8.0. Для версий v2.9.0, v3.7.4.0 и v3.8.0.0 сплит-системы работают коррректно."
   ]
  },
  {
   "cell_type": "markdown",
   "metadata": {},
   "source": [
    "# ответ преподавателя: вы верно решили задание!\n",
    "\n",
    "Логика решения задачи была верной: вы последовательно сравнивали градации в измерениях по целевой переменной. \n"
   ]
  },
  {
   "cell_type": "markdown",
   "metadata": {},
   "source": [
    "В качестве бонуса, ниже показано альтернативное решение задачи"
   ]
  },
  {
   "cell_type": "code",
   "execution_count": 6,
   "metadata": {
    "scrolled": true
   },
   "outputs": [
    {
     "data": {
      "text/html": [
       "<div>\n",
       "<style scoped>\n",
       "    .dataframe tbody tr th:only-of-type {\n",
       "        vertical-align: middle;\n",
       "    }\n",
       "\n",
       "    .dataframe tbody tr th {\n",
       "        vertical-align: top;\n",
       "    }\n",
       "\n",
       "    .dataframe thead th {\n",
       "        text-align: right;\n",
       "    }\n",
       "</style>\n",
       "<table border=\"1\" class=\"dataframe\">\n",
       "  <thead>\n",
       "    <tr style=\"text-align: right;\">\n",
       "      <th></th>\n",
       "      <th>uid</th>\n",
       "      <th>experimentVariant</th>\n",
       "      <th>version</th>\n",
       "      <th>purchase</th>\n",
       "    </tr>\n",
       "  </thead>\n",
       "  <tbody>\n",
       "    <tr>\n",
       "      <th>1</th>\n",
       "      <td>c4ca4238a0b923820dcc509a6f75849b</td>\n",
       "      <td>1</td>\n",
       "      <td>v2.8.0</td>\n",
       "      <td>0</td>\n",
       "    </tr>\n",
       "    <tr>\n",
       "      <th>2</th>\n",
       "      <td>c81e728d9d4c2f636f067f89cc14862c</td>\n",
       "      <td>0</td>\n",
       "      <td>v2.9.0</td>\n",
       "      <td>0</td>\n",
       "    </tr>\n",
       "    <tr>\n",
       "      <th>3</th>\n",
       "      <td>eccbc87e4b5ce2fe28308fd9f2a7baf3</td>\n",
       "      <td>1</td>\n",
       "      <td>v2.9.0</td>\n",
       "      <td>0</td>\n",
       "    </tr>\n",
       "    <tr>\n",
       "      <th>4</th>\n",
       "      <td>a87ff679a2f3e71d9181a67b7542122c</td>\n",
       "      <td>1</td>\n",
       "      <td>v2.8.0</td>\n",
       "      <td>0</td>\n",
       "    </tr>\n",
       "    <tr>\n",
       "      <th>5</th>\n",
       "      <td>e4da3b7fbbce2345d7772b0674a318d5</td>\n",
       "      <td>1</td>\n",
       "      <td>v2.8.0</td>\n",
       "      <td>0</td>\n",
       "    </tr>\n",
       "  </tbody>\n",
       "</table>\n",
       "</div>"
      ],
      "text/plain": [
       "                                uid  experimentVariant version  purchase\n",
       "1  c4ca4238a0b923820dcc509a6f75849b                  1  v2.8.0         0\n",
       "2  c81e728d9d4c2f636f067f89cc14862c                  0  v2.9.0         0\n",
       "3  eccbc87e4b5ce2fe28308fd9f2a7baf3                  1  v2.9.0         0\n",
       "4  a87ff679a2f3e71d9181a67b7542122c                  1  v2.8.0         0\n",
       "5  e4da3b7fbbce2345d7772b0674a318d5                  1  v2.8.0         0"
      ]
     },
     "execution_count": 6,
     "metadata": {},
     "output_type": "execute_result"
    }
   ],
   "source": [
    "\n",
    "from statsmodels.stats.proportion import proportions_ztest\n",
    "df = pd.read_csv('hw_aa.csv', sep=';',index_col=0, decimal=',')\n",
    "df.head()"
   ]
  },
  {
   "cell_type": "code",
   "execution_count": 9,
   "metadata": {},
   "outputs": [
    {
     "name": "stderr",
     "output_type": "stream",
     "text": [
      "/Users/iskander/opt/anaconda3/lib/python3.7/site-packages/statsmodels/stats/weightstats.py:671: RuntimeWarning: invalid value encountered in double_scalars\n",
      "  zstat = value / std_diff\n",
      "/Users/iskander/opt/anaconda3/lib/python3.7/site-packages/ipykernel_launcher.py:33: RuntimeWarning: invalid value encountered in less_equal\n"
     ]
    },
    {
     "data": {
      "text/html": [
       "<div>\n",
       "<style scoped>\n",
       "    .dataframe tbody tr th:only-of-type {\n",
       "        vertical-align: middle;\n",
       "    }\n",
       "\n",
       "    .dataframe tbody tr th {\n",
       "        vertical-align: top;\n",
       "    }\n",
       "\n",
       "    .dataframe thead th {\n",
       "        text-align: right;\n",
       "    }\n",
       "</style>\n",
       "<table border=\"1\" class=\"dataframe\">\n",
       "  <thead>\n",
       "    <tr style=\"text-align: right;\">\n",
       "      <th></th>\n",
       "      <th>group</th>\n",
       "      <th>cr_x</th>\n",
       "      <th>cr_y</th>\n",
       "      <th>fpr_95</th>\n",
       "      <th>is_fpr</th>\n",
       "    </tr>\n",
       "  </thead>\n",
       "  <tbody>\n",
       "    <tr>\n",
       "      <th>0</th>\n",
       "      <td>3.8.2.0</td>\n",
       "      <td>0.066557</td>\n",
       "      <td>0.067081</td>\n",
       "      <td>0.044</td>\n",
       "      <td>True</td>\n",
       "    </tr>\n",
       "    <tr>\n",
       "      <th>1</th>\n",
       "      <td>2.8.0</td>\n",
       "      <td>0.000000</td>\n",
       "      <td>0.045606</td>\n",
       "      <td>1.000</td>\n",
       "      <td>False</td>\n",
       "    </tr>\n",
       "    <tr>\n",
       "      <th>2</th>\n",
       "      <td>2.9.0</td>\n",
       "      <td>0.074658</td>\n",
       "      <td>0.071304</td>\n",
       "      <td>0.044</td>\n",
       "      <td>True</td>\n",
       "    </tr>\n",
       "    <tr>\n",
       "      <th>3</th>\n",
       "      <td>3.7.4.0</td>\n",
       "      <td>0.059943</td>\n",
       "      <td>0.063018</td>\n",
       "      <td>0.038</td>\n",
       "      <td>True</td>\n",
       "    </tr>\n",
       "    <tr>\n",
       "      <th>4</th>\n",
       "      <td>3.8.0.0</td>\n",
       "      <td>0.057604</td>\n",
       "      <td>0.062848</td>\n",
       "      <td>0.046</td>\n",
       "      <td>True</td>\n",
       "    </tr>\n",
       "    <tr>\n",
       "      <th>5</th>\n",
       "      <td>3.8.3.0</td>\n",
       "      <td>0.060475</td>\n",
       "      <td>0.052519</td>\n",
       "      <td>0.000</td>\n",
       "      <td>True</td>\n",
       "    </tr>\n",
       "    <tr>\n",
       "      <th>6</th>\n",
       "      <td>3.8.1.0</td>\n",
       "      <td>0.000000</td>\n",
       "      <td>0.000000</td>\n",
       "      <td>0.000</td>\n",
       "      <td>True</td>\n",
       "    </tr>\n",
       "    <tr>\n",
       "      <th>7</th>\n",
       "      <td>3.7.2.0</td>\n",
       "      <td>0.000000</td>\n",
       "      <td>0.000000</td>\n",
       "      <td>0.000</td>\n",
       "      <td>True</td>\n",
       "    </tr>\n",
       "  </tbody>\n",
       "</table>\n",
       "</div>"
      ],
      "text/plain": [
       "     group      cr_x      cr_y  fpr_95  is_fpr\n",
       "0  3.8.2.0  0.066557  0.067081   0.044    True\n",
       "1    2.8.0  0.000000  0.045606   1.000   False\n",
       "2    2.9.0  0.074658  0.071304   0.044    True\n",
       "3  3.7.4.0  0.059943  0.063018   0.038    True\n",
       "4  3.8.0.0  0.057604  0.062848   0.046    True\n",
       "5  3.8.3.0  0.060475  0.052519   0.000    True\n",
       "6  3.8.1.0  0.000000  0.000000   0.000    True\n",
       "7  3.7.2.0  0.000000  0.000000   0.000    True"
      ]
     },
     "execution_count": 9,
     "metadata": {},
     "output_type": "execute_result"
    }
   ],
   "source": [
    "\n",
    "# основная функция для расчета АА с синтетическими тестами\n",
    "def metric_fpr(df_x, df_y, metric_col, n_sim, n_s_perc, n_s_min, estimator, *args, **kwargs):\n",
    "    stat_res = {\n",
    "        'aa' : {\n",
    "            'pvalue': [], \n",
    "            'mu_x': [], \n",
    "            'mu_y': []\n",
    "        },\n",
    "        'fpr': {\n",
    "            'fpr_95': 0\n",
    "        }\n",
    "    }\n",
    "    \n",
    "    for sim in range(n_sim):\n",
    "        \n",
    "        # по-умолчанию берем %(n_s_perc) наблюдений от исходной, но не более n_s_min\n",
    "        x = df_x[metric_col].sample(int(min(n_s_min, len(df_x) * n_s_perc)), replace = False).values \n",
    "        y = df_y[metric_col].sample(int(min(n_s_min, len(df_y) * n_s_perc)), replace = False).values\n",
    "\n",
    "        if estimator == 'prop':\n",
    "            counts = np.array([sum(x),sum(y)])\n",
    "            nobs = np.array([len(x),len(y)])\n",
    "            stat, pvalue = proportions_ztest(counts, nobs, *args, **kwargs)\n",
    "        \n",
    "        if estimator == 'ttest':\n",
    "            stat, pvalue = stats.ttest_ind(x, y, *args, **kwargs)\n",
    "            \n",
    "        stat_res['aa']['pvalue'].append(pvalue)\n",
    "        stat_res['aa']['mu_x'].append(np.mean(x))\n",
    "        stat_res['aa']['mu_y'].append(np.mean(y))\n",
    "        \n",
    "    \n",
    "    stat_res['fpr']['fpr_95'] =  float(sum(np.array(stat_res['aa']['pvalue']) <= 0.05) / n_sim)\n",
    "    \n",
    "    return stat_res\n",
    "\n",
    "# считаем АА по градациям внутри измерений (группировок)\n",
    "def fpr_report(df, metric_col, variant_col, group_col, n_sim, n_s_perc, n_s_min, estimator, *args, **kwargs):\n",
    "    list_fpr = []\n",
    "    list_group = list(pd.unique(df[group_col]))\n",
    "    \n",
    "    for v in range(len(list_group)):\n",
    "        df_x = df[(df[variant_col] == 0) & (df[group_col] == list_group[v])]\n",
    "        df_y = df[(df[variant_col] == 1) & (df[group_col] == list_group[v])]\n",
    "        \n",
    "        if (len(df_x) == 0) | (len(df_y) == 0):\n",
    "            continue\n",
    "        else:\n",
    "            cr_x = sum(df_x[metric]) / len(df_x)\n",
    "            cr_y = sum(df_y[metric]) / len(df_y)\n",
    "\n",
    "            fpr = {}\n",
    "            fpr = metric_fpr(\n",
    "                df_x = df_x, \n",
    "                df_y = df_y, \n",
    "                metric_col = metric, \n",
    "                n_sim = n_sim,\n",
    "                n_s_perc = n_s_perc,\n",
    "                n_s_min = n_s_min,\n",
    "                estimator = estimator, *args, **kwargs\n",
    "            )\n",
    "            is_fpr = (fpr['fpr']['fpr_95']<=0.05)\n",
    "            list_fpr.append([list_group[v],cr_x,cr_y,fpr['fpr']['fpr_95'],is_fpr])\n",
    "\n",
    "    report = pd.DataFrame.from_records(list_fpr, columns=['group','cr_x','cr_y','fpr_95','is_fpr'])\n",
    "    \n",
    "    return report\n",
    "\n",
    "# параметры\n",
    "n_sim = 500 # количество симуляций\n",
    "n_s_perc = 0.9 # % наблюдений в подвыборках\n",
    "n_s_min = 1000 # но не более константы\n",
    "metric = 'purchase'\n",
    "variant = 'experimentVariant'\n",
    "group = 'version'\n",
    "\n",
    "res = fpr_report(\n",
    "    df = df,\n",
    "    metric_col = metric,\n",
    "    variant_col = variant,\n",
    "    group_col = group,\n",
    "    n_sim = n_sim,\n",
    "    n_s_perc = n_s_perc,\n",
    "    n_s_min = n_s_min,\n",
    "    estimator = 'prop'\n",
    ")\n",
    "\n",
    "res"
   ]
  },
  {
   "cell_type": "markdown",
   "metadata": {},
   "source": [
    "Видим, что проблемы в 2.8.0 версии. По сути мы могли бы итерироваться по другим измерениям и в конце концов нашли бы причину на самом низком уровне"
   ]
  },
  {
   "cell_type": "code",
   "execution_count": 8,
   "metadata": {
    "scrolled": false
   },
   "outputs": [
    {
     "data": {
      "text/html": [
       "<div>\n",
       "<style scoped>\n",
       "    .dataframe tbody tr th:only-of-type {\n",
       "        vertical-align: middle;\n",
       "    }\n",
       "\n",
       "    .dataframe tbody tr th {\n",
       "        vertical-align: top;\n",
       "    }\n",
       "\n",
       "    .dataframe thead th {\n",
       "        text-align: right;\n",
       "    }\n",
       "</style>\n",
       "<table border=\"1\" class=\"dataframe\">\n",
       "  <thead>\n",
       "    <tr style=\"text-align: right;\">\n",
       "      <th></th>\n",
       "      <th>group</th>\n",
       "      <th>cr_x</th>\n",
       "      <th>cr_y</th>\n",
       "      <th>fpr_95</th>\n",
       "      <th>is_fpr</th>\n",
       "    </tr>\n",
       "  </thead>\n",
       "  <tbody>\n",
       "    <tr>\n",
       "      <th>0</th>\n",
       "      <td>ANDROID</td>\n",
       "      <td>0.065903</td>\n",
       "      <td>0.066633</td>\n",
       "      <td>0.038</td>\n",
       "      <td>True</td>\n",
       "    </tr>\n",
       "    <tr>\n",
       "      <th>1</th>\n",
       "      <td>IOS</td>\n",
       "      <td>0.074658</td>\n",
       "      <td>0.071292</td>\n",
       "      <td>0.044</td>\n",
       "      <td>True</td>\n",
       "    </tr>\n",
       "  </tbody>\n",
       "</table>\n",
       "</div>"
      ],
      "text/plain": [
       "     group      cr_x      cr_y  fpr_95  is_fpr\n",
       "0  ANDROID  0.065903  0.066633   0.038    True\n",
       "1      IOS  0.074658  0.071292   0.044    True"
      ]
     },
     "execution_count": 8,
     "metadata": {},
     "output_type": "execute_result"
    }
   ],
   "source": [
    "np.random.seed(1)\n",
    "group = 'operatingSystem'\n",
    "df_fltrd = df[(df['version']!='2.8.0')]\n",
    "\n",
    "res = fpr_report(\n",
    "    df = df_fltrd,\n",
    "    metric_col = metric,\n",
    "    variant_col = variant,\n",
    "    group_col = group,\n",
    "    n_sim = n_sim,\n",
    "    n_s_perc = n_s_perc,\n",
    "    n_s_min = n_s_min,\n",
    "    estimator = 'prop'\n",
    ")\n",
    "\n",
    "res\n"
   ]
  }
 ],
 "metadata": {
  "kernelspec": {
   "display_name": "Python 3",
   "language": "python",
   "name": "python3"
  },
  "language_info": {
   "codemirror_mode": {
    "name": "ipython",
    "version": 3
   },
   "file_extension": ".py",
   "mimetype": "text/x-python",
   "name": "python",
   "nbconvert_exporter": "python",
   "pygments_lexer": "ipython3",
   "version": "3.7.3"
  }
 },
 "nbformat": 4,
 "nbformat_minor": 4
}
